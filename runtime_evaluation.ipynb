{
 "cells": [
  {
   "cell_type": "code",
   "execution_count": 1,
   "metadata": {},
   "outputs": [],
   "source": [
    "from sklearn.datasets import make_blobs\n",
    "from sklearn.preprocessing import StandardScaler\n",
    "from trimkmeans.trimkmeans import TrimKMeans\n",
    "import time\n",
    "from sklearn.cluster import KMeans"
   ]
  },
  {
   "cell_type": "code",
   "execution_count": 3,
   "metadata": {},
   "outputs": [],
   "source": [
    "benchmark_train, true_labels = make_blobs(n_samples=12500, centers=3, random_state=42)\n",
    "Benchmark_train = StandardScaler().fit_transform(benchmark_train)"
   ]
  },
  {
   "cell_type": "code",
   "execution_count": null,
   "metadata": {},
   "outputs": [],
   "source": [
    "trimkmeans = TrimKMeans(n_clusters=centers)\n",
    "start_time = time.process_time()\n",
    "trimkmeans.fit(Benchmark_train[:5000])\n",
    "trimmed_first_time = round(time.process_time() - start_time, 2)"
   ]
  },
  {
   "cell_type": "code",
   "execution_count": null,
   "metadata": {},
   "outputs": [],
   "source": [
    "trimkmeans = TrimKMeans(n_clusters=centers)\n",
    "start_time = time.process_time()\n",
    "trimkmeans.fit(Benchmark_train[:7500])\n",
    "trimmed_second_time = round(time.process_time() - start_time, 2)"
   ]
  },
  {
   "cell_type": "code",
   "execution_count": null,
   "metadata": {},
   "outputs": [],
   "source": [
    "trimkmeans = TrimKMeans(n_clusters=centers)\n",
    "start_time = time.process_time()\n",
    "trimkmeans.fit(Benchmarkd_train[:10000])\n",
    "trimmed_third_time = round(time.process_time() - start_time, 2)"
   ]
  },
  {
   "cell_type": "code",
   "execution_count": null,
   "metadata": {},
   "outputs": [],
   "source": [
    "trimkmeans = TrimKMeans(n_clusters=centers)\n",
    "start_time = time.process_time()\n",
    "trimkmeans.fit(Benchmark_train)\n",
    "trimmed_fourth_time = round(time.process_time() - start_time, 2)"
   ]
  },
  {
   "cell_type": "code",
   "execution_count": null,
   "metadata": {},
   "outputs": [],
   "source": [
    "fig = plt.figure()\n",
    "ax = fig.add_axes([0,0,1,1])\n",
    "number_of_points = ['5k', '7.5k', '10k', '12.5k']\n",
    "times = [trimmed_first_time, trimmed_second_time, trimmed_third_time, trimmed_fourth_time]\n",
    "ax.bar(number_of_points, times)\n",
    "plt.show()"
   ]
  },
  {
   "cell_type": "code",
   "execution_count": null,
   "metadata": {},
   "outputs": [],
   "source": [
    "start_time = time.process_time()\n",
    "kmeans = KMeans(n_clusters=centers, random_state=42).fit(Benchmark_train[:5000])\n",
    "kmeans_first_time = round(time.process_time() - start_time, 2)\n",
    "\n",
    "start_time = time.process_time()\n",
    "kmeans = KMeans(n_clusters=centers, random_state=42).fit(Benchmark_train[:7500])\n",
    "kmeans_second_time = round(time.process_time() - start_time, 2)\n",
    "\n",
    "start_time = time.process_time()\n",
    "kmeans = KMeans(n_clusters=centers, random_state=42).fit(Benchmark_train[:10000])\n",
    "kmeans_third_time = round(time.process_time() - start_time, 2)\n",
    "\n",
    "start_time = time.process_time()\n",
    "kmeans = KMeans(n_clusters=centers, random_state=42).fit(Benchmark_train)\n",
    "kmeans_fourth_time = round(time.process_time() - start_time, 2)"
   ]
  },
  {
   "cell_type": "code",
   "execution_count": null,
   "metadata": {},
   "outputs": [],
   "source": [
    "%load_ext rpy2.ipython"
   ]
  },
  {
   "cell_type": "code",
   "execution_count": null,
   "metadata": {},
   "outputs": [],
   "source": [
    "%%R -i Benchmark_train,centers -o r_first_time,r_second_time,r_third_time,r_fourth_time\n",
    "\n",
    "library(trimcluster)\n",
    "start_time <- Sys.time()\n",
    "tkm1 <- trimkmeans(Benchmark_train[1:5000,], k=centers, trim=0.1, runs=10)\n",
    "end_time <- Sys.time()\n",
    "r_first_time <- end_time - start_time\n",
    "\n",
    "start_time <- Sys.time()\n",
    "tkm1 <- trimkmeans(Benchmark_train[1:7500,], k=centers, trim=0.1, runs=10)\n",
    "end_time <- Sys.time()\n",
    "r_second_time <- end_time - start_time\n",
    "\n",
    "start_time <- Sys.time()\n",
    "tkm1 <- trimkmeans(Benchmark_train[1:10000,], k=centers, trim=0.1, runs=10)\n",
    "end_time <- Sys.time()\n",
    "r_third_time <- end_time - start_time\n",
    "\n",
    "start_time <- Sys.time()\n",
    "tkm1 <- trimkmeans(Benchmark_train, k=centers, trim=0.1, runs=10)\n",
    "end_time <- Sys.time()\n",
    "r_fourth_time <- end_time - start_time"
   ]
  },
  {
   "cell_type": "code",
   "execution_count": null,
   "metadata": {},
   "outputs": [],
   "source": [
    "X = ['5k', '7.5k', '10k', '12.5k']\n",
    "trimmed_times = [trimmed_first_time, trimmed_second_time, trimmed_third_time, trimmed_fourth_time]\n",
    "kmeans_times = [kmeans_first_time, kmeans_second_time, kmeans_third_time, kmeans_fourth_time]\n",
    "r_times = [r_first_time, r_second_time, r_third_time, r_fourth_time]\n",
    "  \n",
    "X_axis = np.arange(len(X))\n",
    "  \n",
    "plt.bar(X_axis - 0.3, trimmed_times, 0.4, label = 'Python trimmed KMeans')\n",
    "plt.bar(X_axis, kmeans_times, 0.4, label = 'Python KMeans')\n",
    "plt.bar(X_axis + 0.3, r_times, 0.4, label = 'R trimmed KMeans')\n",
    "  \n",
    "plt.xticks(X_axis, X)\n",
    "plt.xlabel(\"Implementation\")\n",
    "plt.ylabel(\"Number of Points\")\n",
    "plt.title(\"Runtime comparison\")\n",
    "plt.legend()\n",
    "plt.show()"
   ]
  }
 ],
 "metadata": {
  "colab": {
   "authorship_tag": "ABX9TyNwqd+Gq7Xs63buvE/O6y8B",
   "provenance": []
  },
  "kernelspec": {
   "display_name": "Python 3 (ipykernel)",
   "language": "python",
   "name": "python3"
  },
  "language_info": {
   "codemirror_mode": {
    "name": "ipython",
    "version": 3
   },
   "file_extension": ".py",
   "mimetype": "text/x-python",
   "name": "python",
   "nbconvert_exporter": "python",
   "pygments_lexer": "ipython3",
   "version": "3.10.5"
  }
 },
 "nbformat": 4,
 "nbformat_minor": 1
}
