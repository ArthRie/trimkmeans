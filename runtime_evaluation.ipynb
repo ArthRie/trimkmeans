{
 "cells": [
  {
   "cell_type": "code",
   "execution_count": 4,
   "metadata": {},
   "outputs": [],
   "source": [
    "from sklearn.datasets import make_blobs\n",
    "from sklearn.preprocessing import StandardScaler\n",
    "from trimkmeans.trimkmeans import TrimKMeans\n",
    "import time\n",
    "from sklearn.cluster import KMeans"
   ]
  },
  {
   "cell_type": "code",
   "execution_count": 6,
   "metadata": {},
   "outputs": [],
   "source": [
    "benchmark_train, true_labels = make_blobs(n_samples=125000, centers=centers, random_state=42)\n",
    "Benchmark_train = StandardScaler().fit_transform(benchmark_train)"
   ]
  },
  {
   "cell_type": "code",
   "execution_count": 4,
   "metadata": {},
   "outputs": [],
   "source": [
    "trimkmeans = TrimKMeans(n_clusters=centers)\n",
    "start_time = time.process_time()\n",
    "trimkmeans.fit(Benchmark_train[:50000])\n",
    "trimmed_first_time = round(time.process_time() - start_time, 2)"
   ]
  },
  {
   "cell_type": "code",
   "execution_count": 6,
   "metadata": {},
   "outputs": [],
   "source": [
    "trimkmeans = TrimKMeans(n_clusters=centers)\n",
    "start_time = time.process_time()\n",
    "trimkmeans.fit(Benchmark_train[:75000])\n",
    "trimmed_second_time = round(time.process_time() - start_time, 2)"
   ]
  },
  {
   "cell_type": "code",
   "execution_count": 8,
   "metadata": {},
   "outputs": [],
   "source": [
    "trimkmeans = TrimKMeans(n_clusters=centers)\n",
    "start_time = time.process_time()\n",
    "trimkmeans.fit(Benchmarkd_train[:100000])\n",
    "trimmed_third_time = round(time.process_time() - start_time, 2)"
   ]
  },
  {
   "cell_type": "code",
   "execution_count": 10,
   "metadata": {},
   "outputs": [],
   "source": [
    "trimkmeans = TrimKMeans(n_clusters=centers)\n",
    "start_time = time.process_time()\n",
    "trimkmeans.fit(Benchmark_train)\n",
    "trimmed_fourth_time = round(time.process_time() - start_time, 2)"
   ]
  },
  {
   "cell_type": "code",
   "execution_count": 11,
   "metadata": {},
   "outputs": [
    {
     "data": {
      "image/png": "[encoded data removed]",
      "text/plain": [
       "<Figure size 640x480 with 1 Axes>"
      ]
     },
     "metadata": {},
     "output_type": "display_data"
    }
   ],
   "source": [
    "fig = plt.figure()\n",
    "ax = fig.add_axes([0,0,1,1])\n",
    "number_of_points = ['50k', '75k', '100k', '125k']\n",
    "times = [trimmed_first_time, trimmed_second_time, trimmed_third_time, trimmed_fourth_time]\n",
    "ax.bar(number_of_points, times)\n",
    "plt.show()"
   ]
  },
  {
   "cell_type": "code",
   "execution_count": 13,
   "metadata": {},
   "outputs": [],
   "source": [
    "start_time = time.process_time()\n",
    "kmeans = KMeans(n_clusters=centers, random_state=42).fit(Benchmark_train[:50000])\n",
    "kmeans_first_time = round(time.process_time() - start_time, 2)\n",
    "\n",
    "start_time = time.process_time()\n",
    "kmeans = KMeans(n_clusters=centers, random_state=42).fit(Benchmark_train[:75000])\n",
    "kmeans_second_time = round(time.process_time() - start_time, 2)\n",
    "\n",
    "start_time = time.process_time()\n",
    "kmeans = KMeans(n_clusters=centers, random_state=42).fit(Benchmark_train[:100000])\n",
    "kmeans_third_time = round(time.process_time() - start_time, 2)\n",
    "\n",
    "start_time = time.process_time()\n",
    "kmeans = KMeans(n_clusters=centers, random_state=42).fit(Benchmark_train)\n",
    "kmeans_fourth_time = round(time.process_time() - start_time, 2)"
   ]
  },
  {
   "cell_type": "code",
   "execution_count": 7,
   "metadata": {},
   "outputs": [
    {
     "name": "stdout",
     "output_type": "stream",
     "text": [
      "The rpy2.ipython extension is already loaded. To reload it, use:\n",
      "  %reload_ext rpy2.ipython\n"
     ]
    }
   ],
   "source": [
    "%load_ext rpy2.ipython"
   ]
  },
  {
   "cell_type": "code",
   "execution_count": 15,
   "metadata": {},
   "outputs": [
    {
     "name": "stderr",
     "output_type": "stream",
     "text": [
      "Exception ignored from cffi callback <function _callback at 0x000001CC602FB880>:\n",
      "Traceback (most recent call last):\n",
      "  File \"C:\\Python310\\lib\\site-packages\\rpy2\\rinterface_lib\\callbacks.py\", line 330, in _callback\n",
      "    callback()\n",
      "  File \"C:\\Python310\\lib\\site-packages\\rpy2\\rinterface_lib\\callbacks.py\", line 319, in callback\n",
      "    def callback() -> None:\n",
      "KeyboardInterrupt: \n"
     ]
    }
   ],
   "source": [
    "%%R -i Benchmark_train,centers -o r_first_time,r_second_time,r_third_time,r_fourth_time\n",
    "\n",
    "library(trimcluster)\n",
    "start_time <- Sys.time()\n",
    "tkm1 <- trimkmeans(Benchmark_train[1:50000,], k=centers, trim=0.1)\n",
    "end_time <- Sys.time()\n",
    "r_first_time <- end_time - start_time\n",
    "\n",
    "start_time <- Sys.time()\n",
    "tkm1 <- trimkmeans(Benchmark_train[1:75000,], k=centers, trim=0.1)\n",
    "end_time <- Sys.time()\n",
    "r_second_time <- end_time - start_time\n",
    "\n",
    "start_time <- Sys.time()\n",
    "tkm1 <- trimkmeans(Benchmark_train[1:100000,], k=centers, trim=0.1)\n",
    "end_time <- Sys.time()\n",
    "r_third_time <- end_time - start_time\n",
    "\n",
    "start_time <- Sys.time()\n",
    "tkm1 <- trimkmeans(Benchmark_train, k=centers, trim=0.1)\n",
    "end_time <- Sys.time()\n",
    "r_fourth_time <- end_time - start_time"
   ]
  },
  {
   "cell_type": "code",
   "execution_count": 14,
   "metadata": {},
   "outputs": [
    {
     "ename": "NameError",
     "evalue": "name 'trimmed_first_time' is not defined",
     "output_type": "error",
     "traceback": [
      "\u001b[1;31m---------------------------------------------------------------------------\u001b[0m",
      "\u001b[1;31mNameError\u001b[0m                                 Traceback (most recent call last)",
      "Cell \u001b[1;32mIn [14], line 2\u001b[0m\n\u001b[0;32m      1\u001b[0m X \u001b[38;5;241m=\u001b[39m [\u001b[38;5;124m'\u001b[39m\u001b[38;5;124m50k\u001b[39m\u001b[38;5;124m'\u001b[39m, \u001b[38;5;124m'\u001b[39m\u001b[38;5;124m100k\u001b[39m\u001b[38;5;124m'\u001b[39m, \u001b[38;5;124m'\u001b[39m\u001b[38;5;124m200k\u001b[39m\u001b[38;5;124m'\u001b[39m, \u001b[38;5;124m'\u001b[39m\u001b[38;5;124m300k\u001b[39m\u001b[38;5;124m'\u001b[39m]\n\u001b[1;32m----> 2\u001b[0m trimmed_times \u001b[38;5;241m=\u001b[39m [\u001b[43mtrimmed_first_time\u001b[49m, trimmed_second_time, trimmed_third_time, trimmed_fourth_time]\n\u001b[0;32m      3\u001b[0m kmeans_times \u001b[38;5;241m=\u001b[39m [kmeans_first_time, kmeans_second_time, kmeans_third_time, kmeans_fourth_time]\n\u001b[0;32m      4\u001b[0m r_times \u001b[38;5;241m=\u001b[39m [r_first_time, r_second_time, r_third_time, r_fourth_time]\n",
      "\u001b[1;31mNameError\u001b[0m: name 'trimmed_first_time' is not defined"
     ]
    }
   ],
   "source": [
    "X = ['50k', '100k', '200k', '300k']\n",
    "trimmed_times = [trimmed_first_time, trimmed_second_time, trimmed_third_time, trimmed_fourth_time]\n",
    "kmeans_times = [kmeans_first_time, kmeans_second_time, kmeans_third_time, kmeans_fourth_time]\n",
    "r_times = [r_first_time, r_second_time, r_third_time, r_fourth_time]\n",
    "  \n",
    "X_axis = np.arange(len(X))\n",
    "  \n",
    "plt.bar(X_axis - 0.3, trimmed_times, 0.4, label = 'Python trimmed KMeans')\n",
    "plt.bar(X_axis, kmeans_times, 0.4, label = 'Python KMeans')\n",
    "plt.bar(X_axis + 0.3, r_times, 0.4, label = 'R trimmed KMeans')\n",
    "  \n",
    "plt.xticks(X_axis, X)\n",
    "plt.xlabel(\"Implementation\")\n",
    "plt.ylabel(\"Number of Points\")\n",
    "plt.title(\"Runtime comparison\")\n",
    "plt.legend()\n",
    "plt.show()"
   ]
  }
 ],
 "metadata": {
  "colab": {
   "authorship_tag": "ABX9TyNwqd+Gq7Xs63buvE/O6y8B",
   "provenance": []
  },
  "kernelspec": {
   "display_name": "Python 3 (ipykernel)",
   "language": "python",
   "name": "python3"
  },
  "language_info": {
   "codemirror_mode": {
    "name": "ipython",
    "version": 3
   },
   "file_extension": ".py",
   "mimetype": "text/x-python",
   "name": "python",
   "nbconvert_exporter": "python",
   "pygments_lexer": "ipython3",
   "version": "3.10.5"
  }
 },
 "nbformat": 4,
 "nbformat_minor": 1
}
