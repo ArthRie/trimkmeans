{
 "cells": [
  {
   "cell_type": "code",
   "execution_count": null,
   "id": "8154c4a2",
   "metadata": {},
   "outputs": [],
   "source": [
    "import matplotlib.pyplot as plt\n",
    "import seaborn as sns\n",
    "from sklearn.datasets import make_blobs\n",
    "from sklearn.preprocessing import StandardScaler\n",
    "from trimkmeans.trimkmeans import TrimKMeans"
   ]
  },
  {
   "cell_type": "code",
   "execution_count": null,
   "id": "39dd374d",
   "metadata": {},
   "outputs": [],
   "source": [
    "# Create a dataset of 2D distributions\n",
    "centers = 3\n",
    "X_train, true_labels = make_blobs(n_samples=100, centers=centers, random_state=42)\n",
    "X_train = StandardScaler().fit_transform(X_train)\n",
    "# Fit centroids to dataset\n",
    "trimkmeans = TrimKMeans(n_clusters=centers)\n",
    "trimkmeans.fit(X_train)\n",
    "# View results\n",
    "class_centers, classification, cutoff_ranges = trimkmeans.evaluate(X_train)\n",
    "sns.scatterplot(x=[X[0] for X in X_train],\n",
    "                y=[X[1] for X in X_train],\n",
    "                hue=classification,\n",
    "                style=classification,\n",
    "                palette=\"deep\",\n",
    "                legend=None\n",
    "                )\n",
    "plt.plot([x for x, _ in trimkmeans.centroids],\n",
    "         [y for _, y in trimkmeans.centroids],\n",
    "         'k+',\n",
    "         markersize=10,\n",
    "         )\n",
    "\n",
    "for idx, centroid in enumerate(trimkmeans.centroids):\n",
    "    circle = plt.Circle(centroid, trimkmeans.cutoff_ranges[idx], fill=False, color='r')\n",
    "    plt.gca().add_patch(circle)\n",
    "plt.show()"
   ]
  },
  {
   "cell_type": "code",
   "execution_count": null,
   "id": "0cea15a5",
   "metadata": {},
   "outputs": [],
   "source": [
    "%load_ext rpy2.ipython"
   ]
  },
  {
   "cell_type": "code",
   "execution_count": null,
   "id": "a69bee5a",
   "metadata": {},
   "outputs": [],
   "source": [
    "#resolution setting from https://stackoverflow.com/questions/39008069/r-and-python-in-one-jupyter-notebook"
   ]
  },
  {
   "cell_type": "code",
   "execution_count": null,
   "id": "28c870a5",
   "metadata": {},
   "outputs": [],
   "source": [
    "%%R -i X_train,centers -w 5 -h 5 --units in -r 200\n",
    "\n",
    "tkm1 <- trimkmeans(X_train, k=centers, trim=0.1, runs=3)\n",
    "plot(tkm1,X)"
   ]
  },
  {
   "cell_type": "code",
   "execution_count": null,
   "id": "ced6f397",
   "metadata": {},
   "outputs": [],
   "source": [
    "# Create a dataset of 2D distributions\n",
    "centers = 3\n",
    "X_train, true_labels = make_blobs(n_samples=10000, centers=centers, random_state=42)\n",
    "X_train = StandardScaler().fit_transform(X_train)\n",
    "# Fit centroids to dataset\n",
    "trimkmeans = TrimKMeans(n_clusters=centers)\n",
    "trimkmeans.fit(X_train)\n",
    "# View results\n",
    "class_centers, classification, cutoff_ranges = trimkmeans.evaluate(X_train)\n",
    "sns.scatterplot(x=[X[0] for X in X_train],\n",
    "                y=[X[1] for X in X_train],\n",
    "                hue=classification,\n",
    "                style=classification,\n",
    "                palette=\"deep\",\n",
    "                legend=None\n",
    "                )\n",
    "plt.plot([x for x, _ in trimkmeans.centroids],\n",
    "         [y for _, y in trimkmeans.centroids],\n",
    "         'k+',\n",
    "         markersize=10,\n",
    "         )\n",
    "\n",
    "for idx, centroid in enumerate(trimkmeans.centroids):\n",
    "    circle = plt.Circle(centroid, trimkmeans.cutoff_ranges[idx], fill=False, color='r')\n",
    "    plt.gca().add_patch(circle)\n",
    "plt.show()"
   ]
  },
  {
   "cell_type": "code",
   "execution_count": null,
   "id": "eefee982",
   "metadata": {},
   "outputs": [],
   "source": [
    "# Create a dataset of 2D distributions\n",
    "centers = 3\n",
    "X_train, true_labels = make_blobs(n_samples=10000, centers=centers, random_state=42)\n",
    "X_train = StandardScaler().fit_transform(X_train)\n",
    "# Fit centroids to dataset\n",
    "trimkmeans = KMeans(n_clusters=centers, random_state=42)\n",
    "trimkmeans.fit(X_train)\n",
    "# View results\n",
    "class_centers, classification, cutoff_ranges = trimkmeans.evaluate(X_train)\n",
    "sns.scatterplot(x=[X[0] for X in X_train],\n",
    "                y=[X[1] for X in X_train],\n",
    "                hue=classification,\n",
    "                style=classification,\n",
    "                palette=\"deep\",\n",
    "                legend=None\n",
    "                )\n",
    "plt.plot([x for x, _ in trimkmeans.centroids],\n",
    "         [y for _, y in trimkmeans.centroids],\n",
    "         'k+',\n",
    "         markersize=10,\n",
    "         )\n"
   ]
  }
 ],
 "metadata": {
  "kernelspec": {
   "display_name": "Python 3 (ipykernel)",
   "language": "python",
   "name": "python3"
  },
  "language_info": {
   "codemirror_mode": {
    "name": "ipython",
    "version": 3
   },
   "file_extension": ".py",
   "mimetype": "text/x-python",
   "name": "python",
   "nbconvert_exporter": "python",
   "pygments_lexer": "ipython3",
   "version": "3.10.5"
  }
 },
 "nbformat": 4,
 "nbformat_minor": 5
}
